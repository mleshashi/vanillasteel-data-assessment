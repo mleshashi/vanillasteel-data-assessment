{
 "cells": [
  {
   "cell_type": "code",
   "execution_count": 15,
   "id": "8c2a511e",
   "metadata": {},
   "outputs": [],
   "source": [
    "import pandas as pd\n",
    "import numpy as np\n",
    "import matplotlib.pyplot as plt\n",
    "import seaborn as sns\n",
    "from pathlib import Path\n",
    "import os"
   ]
  },
  {
   "cell_type": "code",
   "execution_count": 16,
   "id": "7354ee4e",
   "metadata": {},
   "outputs": [],
   "source": [
    "RESOURCES_DIR = Path(\"../resources\")\n",
    "TASK1_DIR = RESOURCES_DIR / \"task_1\"\n",
    "TASK2_DIR = RESOURCES_DIR / \"task_2\""
   ]
  },
  {
   "cell_type": "code",
   "execution_count": 17,
   "id": "aefe1a95",
   "metadata": {},
   "outputs": [
    {
     "name": "stdout",
     "output_type": "stream",
     "text": [
      "Checking for data files...\n",
      "Looking in: ../resources/task_1\n",
      "supplier_data1.xlsx exists: True\n",
      "supplier_data2.xlsx exists: True\n"
     ]
    }
   ],
   "source": [
    "# Step 1: Check if data files exist\n",
    "supplier1_path = TASK1_DIR / \"supplier_data1.xlsx\"\n",
    "supplier2_path = TASK1_DIR / \"supplier_data2.xlsx\"\n",
    "\n",
    "print(f\"Checking for data files...\")\n",
    "print(f\"Looking in: {TASK1_DIR}\")\n",
    "print(f\"supplier_data1.xlsx exists: {supplier1_path.exists()}\")\n",
    "print(f\"supplier_data2.xlsx exists: {supplier2_path.exists()}\")"
   ]
  },
  {
   "cell_type": "code",
   "execution_count": 18,
   "id": "344a77a6",
   "metadata": {},
   "outputs": [
    {
     "data": {
      "text/html": [
       "<div>\n",
       "<style scoped>\n",
       "    .dataframe tbody tr th:only-of-type {\n",
       "        vertical-align: middle;\n",
       "    }\n",
       "\n",
       "    .dataframe tbody tr th {\n",
       "        vertical-align: top;\n",
       "    }\n",
       "\n",
       "    .dataframe thead th {\n",
       "        text-align: right;\n",
       "    }\n",
       "</style>\n",
       "<table border=\"1\" class=\"dataframe\">\n",
       "  <thead>\n",
       "    <tr style=\"text-align: right;\">\n",
       "      <th></th>\n",
       "      <th>Quality/Choice</th>\n",
       "      <th>Grade</th>\n",
       "      <th>Finish</th>\n",
       "      <th>Thickness (mm)</th>\n",
       "      <th>Width (mm)</th>\n",
       "      <th>Description</th>\n",
       "      <th>Gross weight (kg)</th>\n",
       "      <th>RP02</th>\n",
       "      <th>RM</th>\n",
       "      <th>Quantity</th>\n",
       "      <th>AG</th>\n",
       "      <th>AI</th>\n",
       "    </tr>\n",
       "  </thead>\n",
       "  <tbody>\n",
       "    <tr>\n",
       "      <th>0</th>\n",
       "      <td>3rd</td>\n",
       "      <td>C200S</td>\n",
       "      <td>gebeizt und geglüht</td>\n",
       "      <td>2.77</td>\n",
       "      <td>1100</td>\n",
       "      <td>Längs- oder Querisse</td>\n",
       "      <td>13983</td>\n",
       "      <td>333.6</td>\n",
       "      <td>606.2</td>\n",
       "      <td>0.00</td>\n",
       "      <td>16.11</td>\n",
       "      <td>0.0054</td>\n",
       "    </tr>\n",
       "    <tr>\n",
       "      <th>1</th>\n",
       "      <td>3rd</td>\n",
       "      <td>C300S</td>\n",
       "      <td>ungebeizt</td>\n",
       "      <td>2.65</td>\n",
       "      <td>1075</td>\n",
       "      <td>Längs- oder Querisse</td>\n",
       "      <td>13047</td>\n",
       "      <td>717.7</td>\n",
       "      <td>0.0</td>\n",
       "      <td>0.00</td>\n",
       "      <td>16.11</td>\n",
       "      <td>0.0046</td>\n",
       "    </tr>\n",
       "    <tr>\n",
       "      <th>2</th>\n",
       "      <td>3rd</td>\n",
       "      <td>C100S</td>\n",
       "      <td>gebeizt und geglüht</td>\n",
       "      <td>2.20</td>\n",
       "      <td>1100</td>\n",
       "      <td>Kantenfehler - FS-Kantenrisse</td>\n",
       "      <td>14155</td>\n",
       "      <td>368.9</td>\n",
       "      <td>0.0</td>\n",
       "      <td>10.84</td>\n",
       "      <td>0.00</td>\n",
       "      <td>0.0061</td>\n",
       "    </tr>\n",
       "    <tr>\n",
       "      <th>3</th>\n",
       "      <td>2nd</td>\n",
       "      <td>C100S</td>\n",
       "      <td>gebeizt</td>\n",
       "      <td>2.86</td>\n",
       "      <td>1100</td>\n",
       "      <td>Längs- oder Querisse</td>\n",
       "      <td>11381</td>\n",
       "      <td>368.9</td>\n",
       "      <td>601.7</td>\n",
       "      <td>22.87</td>\n",
       "      <td>0.00</td>\n",
       "      <td>0.0062</td>\n",
       "    </tr>\n",
       "    <tr>\n",
       "      <th>4</th>\n",
       "      <td>1st</td>\n",
       "      <td>C300S</td>\n",
       "      <td>ungebeizt</td>\n",
       "      <td>2.88</td>\n",
       "      <td>1050</td>\n",
       "      <td>Sollmasse (Gewicht) unterschritten</td>\n",
       "      <td>10072</td>\n",
       "      <td>0.0</td>\n",
       "      <td>1213.0</td>\n",
       "      <td>22.87</td>\n",
       "      <td>0.00</td>\n",
       "      <td>0.0041</td>\n",
       "    </tr>\n",
       "  </tbody>\n",
       "</table>\n",
       "</div>"
      ],
      "text/plain": [
       "  Quality/Choice  Grade               Finish  Thickness (mm)  Width (mm)  \\\n",
       "0            3rd  C200S  gebeizt und geglüht            2.77        1100   \n",
       "1            3rd  C300S            ungebeizt            2.65        1075   \n",
       "2            3rd  C100S  gebeizt und geglüht            2.20        1100   \n",
       "3            2nd  C100S              gebeizt            2.86        1100   \n",
       "4            1st  C300S            ungebeizt            2.88        1050   \n",
       "\n",
       "                          Description  Gross weight (kg)   RP02      RM  \\\n",
       "0                Längs- oder Querisse              13983  333.6   606.2   \n",
       "1                Längs- oder Querisse              13047  717.7     0.0   \n",
       "2       Kantenfehler - FS-Kantenrisse              14155  368.9     0.0   \n",
       "3                Längs- oder Querisse              11381  368.9   601.7   \n",
       "4  Sollmasse (Gewicht) unterschritten              10072    0.0  1213.0   \n",
       "\n",
       "   Quantity     AG      AI  \n",
       "0      0.00  16.11  0.0054  \n",
       "1      0.00  16.11  0.0046  \n",
       "2     10.84   0.00  0.0061  \n",
       "3     22.87   0.00  0.0062  \n",
       "4     22.87   0.00  0.0041  "
      ]
     },
     "execution_count": 18,
     "metadata": {},
     "output_type": "execute_result"
    }
   ],
   "source": [
    "# Step 2: Load and examine supplier_data1.xlsx\n",
    "\n",
    "supplier1_df = pd.read_excel(supplier1_path)\n",
    "supplier1_df.head()"
   ]
  },
  {
   "cell_type": "code",
   "execution_count": 19,
   "id": "4043834f",
   "metadata": {},
   "outputs": [
    {
     "name": "stdout",
     "output_type": "stream",
     "text": [
      "Shape: (50, 12)\n"
     ]
    }
   ],
   "source": [
    "print(f\"Shape: {supplier1_df.shape}\")"
   ]
  },
  {
   "cell_type": "code",
   "execution_count": 20,
   "id": "9cdf1ca6",
   "metadata": {},
   "outputs": [
    {
     "name": "stdout",
     "output_type": "stream",
     "text": [
      "\n",
      "Data types:\n",
      "Quality/Choice        object\n",
      "Grade                 object\n",
      "Finish                object\n",
      "Thickness (mm)       float64\n",
      "Width (mm)             int64\n",
      "Description           object\n",
      "Gross weight (kg)      int64\n",
      "RP02                 float64\n",
      "RM                   float64\n",
      "Quantity             float64\n",
      "AG                   float64\n",
      "AI                   float64\n",
      "dtype: object\n"
     ]
    }
   ],
   "source": [
    "print(f\"\\nData types:\")\n",
    "print(supplier1_df.dtypes)"
   ]
  },
  {
   "cell_type": "code",
   "execution_count": 26,
   "id": "9aed247b",
   "metadata": {},
   "outputs": [
    {
     "name": "stdout",
     "output_type": "stream",
     "text": [
      "\n",
      "Missing values:\n",
      "Quality/Choice       0\n",
      "Grade                0\n",
      "Finish               0\n",
      "Thickness (mm)       0\n",
      "Width (mm)           0\n",
      "Description          0\n",
      "Gross weight (kg)    0\n",
      "RP02                 0\n",
      "RM                   0\n",
      "Quantity             0\n",
      "AG                   0\n",
      "AI                   0\n",
      "dtype: int64\n"
     ]
    }
   ],
   "source": [
    "print(f\"\\nMissing values:\")\n",
    "print(supplier1_df.isnull().sum())"
   ]
  },
  {
   "cell_type": "code",
   "execution_count": 25,
   "id": "3f211365",
   "metadata": {},
   "outputs": [
    {
     "name": "stdout",
     "output_type": "stream",
     "text": [
      "\n",
      "Basic statistics:\n",
      "       Quality/Choice  Grade               Finish  Thickness (mm)  \\\n",
      "count              50     50                   50       50.000000   \n",
      "unique              3      3                    3             NaN   \n",
      "top               3rd  C100S  gebeizt und geglüht             NaN   \n",
      "freq               19     26                   19             NaN   \n",
      "mean              NaN    NaN                  NaN        2.508800   \n",
      "std               NaN    NaN                  NaN        0.273112   \n",
      "min               NaN    NaN                  NaN        2.010000   \n",
      "25%               NaN    NaN                  NaN        2.292500   \n",
      "50%               NaN    NaN                  NaN        2.510000   \n",
      "75%               NaN    NaN                  NaN        2.750000   \n",
      "max               NaN    NaN                  NaN        2.980000   \n",
      "\n",
      "         Width (mm)           Description  Gross weight (kg)       RP02  \\\n",
      "count     50.000000                    50          50.000000   50.00000   \n",
      "unique          NaN                     3                NaN        NaN   \n",
      "top             NaN  Längs- oder Querisse                NaN        NaN   \n",
      "freq            NaN                    23                NaN        NaN   \n",
      "mean    1075.000000                   NaN       10227.840000  336.39200   \n",
      "std       48.968961                   NaN        2900.401516  245.12073   \n",
      "min     1000.000000                   NaN        5011.000000    0.00000   \n",
      "25%     1050.000000                   NaN        8065.500000   83.40000   \n",
      "50%     1075.000000                   NaN       10167.000000  368.90000   \n",
      "75%     1100.000000                   NaN       12844.000000  368.90000   \n",
      "max     1150.000000                   NaN       14839.000000  717.70000   \n",
      "\n",
      "                 RM   Quantity         AG         AI  \n",
      "count     50.000000  50.000000  50.000000  50.000000  \n",
      "unique          NaN        NaN        NaN        NaN  \n",
      "top             NaN        NaN        NaN        NaN  \n",
      "freq            NaN        NaN        NaN        NaN  \n",
      "mean     653.682000  13.536200   9.706120   0.005500  \n",
      "std      403.594141  10.380396   7.080155   0.000886  \n",
      "min        0.000000   0.000000   0.000000   0.004100  \n",
      "25%      601.700000   0.000000   0.000000   0.004725  \n",
      "50%      606.200000  10.840000  15.050000   0.005450  \n",
      "75%     1061.300000  22.870000  16.110000   0.006200  \n",
      "max     1213.000000  25.460000  16.110000   0.007000  \n"
     ]
    }
   ],
   "source": [
    "print(\"\\nBasic statistics:\")\n",
    "print(supplier1_df.describe(include='all'))"
   ]
  },
  {
   "cell_type": "code",
   "execution_count": 27,
   "id": "b05d2296",
   "metadata": {},
   "outputs": [
    {
     "name": "stdout",
     "output_type": "stream",
     "text": [
      "Unique values per column:\n",
      "Quality/Choice: 3 unique values\n",
      "  First 5 unique values: ['3rd', '2nd', '1st']\n",
      "Grade: 3 unique values\n",
      "  First 5 unique values: ['C200S', 'C300S', 'C100S']\n",
      "Finish: 3 unique values\n",
      "  First 5 unique values: ['gebeizt und geglüht', 'ungebeizt', 'gebeizt']\n",
      "Thickness (mm): 39 unique values\n",
      "  First 5 unique values: [np.float64(2.77), np.float64(2.65), np.float64(2.2), np.float64(2.86), np.float64(2.88)]\n",
      "Width (mm): 5 unique values\n",
      "  First 5 unique values: [np.int64(1100), np.int64(1075), np.int64(1050), np.int64(1000), np.int64(1150)]\n",
      "Description: 3 unique values\n",
      "  First 5 unique values: ['Längs- oder Querisse', 'Kantenfehler - FS-Kantenrisse', 'Sollmasse (Gewicht) unterschritten']\n",
      "Gross weight (kg): 50 unique values\n",
      "  First 5 unique values: [np.int64(13983), np.int64(13047), np.int64(14155), np.int64(11381), np.int64(10072)]\n",
      "RP02: 4 unique values\n",
      "  First 5 unique values: [np.float64(333.6), np.float64(717.7), np.float64(368.9), np.float64(0.0)]\n",
      "RM: 4 unique values\n",
      "  First 5 unique values: [np.float64(606.2), np.float64(0.0), np.float64(601.7), np.float64(1213.0)]\n",
      "Quantity: 4 unique values\n",
      "  First 5 unique values: [np.float64(0.0), np.float64(10.84), np.float64(22.87), np.float64(25.46)]\n",
      "AG: 4 unique values\n",
      "  First 5 unique values: [np.float64(16.11), np.float64(0.0), np.float64(15.05), np.float64(6.858)]\n",
      "AI: 26 unique values\n",
      "  First 5 unique values: [np.float64(0.0054), np.float64(0.0046), np.float64(0.0061), np.float64(0.0062), np.float64(0.0041)]\n"
     ]
    }
   ],
   "source": [
    "print(\"Unique values per column:\")\n",
    "for col in supplier1_df.columns:\n",
    "    uniques = supplier1_df[col].unique()[:5]  # first 5 unique values\n",
    "    print(f\"{col}: {supplier1_df[col].nunique()} unique values\")\n",
    "    print(f\"  First 5 unique values: {list(uniques)}\")"
   ]
  },
  {
   "cell_type": "code",
   "execution_count": 28,
   "id": "2bd9e120",
   "metadata": {},
   "outputs": [
    {
     "data": {
      "text/html": [
       "<div>\n",
       "<style scoped>\n",
       "    .dataframe tbody tr th:only-of-type {\n",
       "        vertical-align: middle;\n",
       "    }\n",
       "\n",
       "    .dataframe tbody tr th {\n",
       "        vertical-align: top;\n",
       "    }\n",
       "\n",
       "    .dataframe thead th {\n",
       "        text-align: right;\n",
       "    }\n",
       "</style>\n",
       "<table border=\"1\" class=\"dataframe\">\n",
       "  <thead>\n",
       "    <tr style=\"text-align: right;\">\n",
       "      <th></th>\n",
       "      <th>Material</th>\n",
       "      <th>Description</th>\n",
       "      <th>Article ID</th>\n",
       "      <th>Weight (kg)</th>\n",
       "      <th>Quantity</th>\n",
       "      <th>Reserved</th>\n",
       "    </tr>\n",
       "  </thead>\n",
       "  <tbody>\n",
       "    <tr>\n",
       "      <th>0</th>\n",
       "      <td>HDC</td>\n",
       "      <td>Material is Oiled</td>\n",
       "      <td>23048203</td>\n",
       "      <td>24469</td>\n",
       "      <td>52</td>\n",
       "      <td>NOT RESERVED</td>\n",
       "    </tr>\n",
       "    <tr>\n",
       "      <th>1</th>\n",
       "      <td>S235JR</td>\n",
       "      <td>Material is Oiled</td>\n",
       "      <td>23040547</td>\n",
       "      <td>16984</td>\n",
       "      <td>41</td>\n",
       "      <td>NOT RESERVED</td>\n",
       "    </tr>\n",
       "    <tr>\n",
       "      <th>2</th>\n",
       "      <td>S235JR</td>\n",
       "      <td>Material is Painted</td>\n",
       "      <td>23046057</td>\n",
       "      <td>9162</td>\n",
       "      <td>28</td>\n",
       "      <td>NOT RESERVED</td>\n",
       "    </tr>\n",
       "    <tr>\n",
       "      <th>3</th>\n",
       "      <td>DX51D +AZ150</td>\n",
       "      <td>Material is Oiled</td>\n",
       "      <td>23041966</td>\n",
       "      <td>12119</td>\n",
       "      <td>66</td>\n",
       "      <td>VANILLA</td>\n",
       "    </tr>\n",
       "    <tr>\n",
       "      <th>4</th>\n",
       "      <td>HDC</td>\n",
       "      <td>Material is Painted</td>\n",
       "      <td>23043884</td>\n",
       "      <td>17260</td>\n",
       "      <td>26</td>\n",
       "      <td>NOT RESERVED</td>\n",
       "    </tr>\n",
       "  </tbody>\n",
       "</table>\n",
       "</div>"
      ],
      "text/plain": [
       "       Material          Description  Article ID  Weight (kg)  Quantity  \\\n",
       "0           HDC    Material is Oiled    23048203        24469        52   \n",
       "1        S235JR    Material is Oiled    23040547        16984        41   \n",
       "2        S235JR  Material is Painted    23046057         9162        28   \n",
       "3  DX51D +AZ150    Material is Oiled    23041966        12119        66   \n",
       "4           HDC  Material is Painted    23043884        17260        26   \n",
       "\n",
       "       Reserved  \n",
       "0  NOT RESERVED  \n",
       "1  NOT RESERVED  \n",
       "2  NOT RESERVED  \n",
       "3       VANILLA  \n",
       "4  NOT RESERVED  "
      ]
     },
     "execution_count": 28,
     "metadata": {},
     "output_type": "execute_result"
    }
   ],
   "source": [
    "# Step 3: Load and examine supplier_data2.xlsx\n",
    "supplier2_df = pd.read_excel(supplier2_path)\n",
    "supplier2_df.head()"
   ]
  },
  {
   "cell_type": "code",
   "execution_count": 29,
   "id": "37349aef",
   "metadata": {},
   "outputs": [
    {
     "name": "stdout",
     "output_type": "stream",
     "text": [
      "Shape: (50, 6)\n"
     ]
    }
   ],
   "source": [
    "print(f\"Shape: {supplier2_df.shape}\")"
   ]
  },
  {
   "cell_type": "code",
   "execution_count": 30,
   "id": "3159c86f",
   "metadata": {},
   "outputs": [
    {
     "name": "stdout",
     "output_type": "stream",
     "text": [
      "\n",
      "Data types:\n",
      "Material       object\n",
      "Description    object\n",
      "Article ID      int64\n",
      "Weight (kg)     int64\n",
      "Quantity        int64\n",
      "Reserved       object\n",
      "dtype: object\n"
     ]
    }
   ],
   "source": [
    "print(f\"\\nData types:\")\n",
    "print(supplier2_df.dtypes)"
   ]
  },
  {
   "cell_type": "code",
   "execution_count": 31,
   "id": "4450cf3f",
   "metadata": {},
   "outputs": [
    {
     "name": "stdout",
     "output_type": "stream",
     "text": [
      "\n",
      "Missing values:\n",
      "Material       0\n",
      "Description    0\n",
      "Article ID     0\n",
      "Weight (kg)    0\n",
      "Quantity       0\n",
      "Reserved       0\n",
      "dtype: int64\n"
     ]
    }
   ],
   "source": [
    "print(f\"\\nMissing values:\")\n",
    "print(supplier2_df.isnull().sum())"
   ]
  },
  {
   "cell_type": "code",
   "execution_count": 32,
   "id": "d87cde32",
   "metadata": {},
   "outputs": [
    {
     "name": "stdout",
     "output_type": "stream",
     "text": [
      "\n",
      "Basic statistics:\n",
      "       Material            Description    Article ID   Weight (kg)   Quantity  \\\n",
      "count        50                     50  5.000000e+01     50.000000  50.000000   \n",
      "unique        4                      3           NaN           NaN        NaN   \n",
      "top      S235JR  Material is not Oiled           NaN           NaN        NaN   \n",
      "freq         19                     18           NaN           NaN        NaN   \n",
      "mean        NaN                    NaN  2.304538e+07  16307.520000  57.920000   \n",
      "std         NaN                    NaN  2.876349e+03   5669.798014  25.197052   \n",
      "min         NaN                    NaN  2.304027e+07   5302.000000  10.000000   \n",
      "25%         NaN                    NaN  2.304345e+07  11367.750000  33.250000   \n",
      "50%         NaN                    NaN  2.304551e+07  16660.000000  62.000000   \n",
      "75%         NaN                    NaN  2.304778e+07  21278.000000  74.500000   \n",
      "max         NaN                    NaN  2.304991e+07  24951.000000  98.000000   \n",
      "\n",
      "            Reserved  \n",
      "count             50  \n",
      "unique             2  \n",
      "top     NOT RESERVED  \n",
      "freq              27  \n",
      "mean             NaN  \n",
      "std              NaN  \n",
      "min              NaN  \n",
      "25%              NaN  \n",
      "50%              NaN  \n",
      "75%              NaN  \n",
      "max              NaN  \n"
     ]
    }
   ],
   "source": [
    "print(\"\\nBasic statistics:\")\n",
    "print(supplier2_df.describe(include='all'))"
   ]
  },
  {
   "cell_type": "code",
   "execution_count": 33,
   "id": "bb82ad0c",
   "metadata": {},
   "outputs": [
    {
     "name": "stdout",
     "output_type": "stream",
     "text": [
      "Unique values per column:\n",
      "Material: 4 unique values\n",
      "  First 5 unique values: ['HDC', 'S235JR', 'DX51D +AZ150', 'DX51D +Z140']\n",
      "Description: 3 unique values\n",
      "  First 5 unique values: ['Material is Oiled', 'Material is Painted', 'Material is not Oiled']\n",
      "Article ID: 50 unique values\n",
      "  First 5 unique values: [np.int64(23048203), np.int64(23040547), np.int64(23046057), np.int64(23041966), np.int64(23043884)]\n",
      "Weight (kg): 50 unique values\n",
      "  First 5 unique values: [np.int64(24469), np.int64(16984), np.int64(9162), np.int64(12119), np.int64(17260)]\n",
      "Quantity: 38 unique values\n",
      "  First 5 unique values: [np.int64(52), np.int64(41), np.int64(28), np.int64(66), np.int64(26)]\n",
      "Reserved: 2 unique values\n",
      "  First 5 unique values: ['NOT RESERVED', 'VANILLA']\n"
     ]
    }
   ],
   "source": [
    "print(\"Unique values per column:\")\n",
    "for col in supplier2_df.columns:\n",
    "    uniques = supplier2_df[col].unique()[:5]  # first 5 unique values\n",
    "    print(f\"{col}: {supplier2_df[col].nunique()} unique values\")\n",
    "    print(f\"  First 5 unique values: {list(uniques)}\")"
   ]
  }
 ],
 "metadata": {
  "kernelspec": {
   "display_name": "venv",
   "language": "python",
   "name": "python3"
  },
  "language_info": {
   "codemirror_mode": {
    "name": "ipython",
    "version": 3
   },
   "file_extension": ".py",
   "mimetype": "text/x-python",
   "name": "python",
   "nbconvert_exporter": "python",
   "pygments_lexer": "ipython3",
   "version": "3.12.3"
  }
 },
 "nbformat": 4,
 "nbformat_minor": 5
}
