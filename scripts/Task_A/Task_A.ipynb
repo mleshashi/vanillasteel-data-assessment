{
 "cells": [
  {
   "cell_type": "markdown",
   "id": "f37f49de",
   "metadata": {},
   "source": [
    "\"\"\"\n",
    "Task A: Supplier Data Cleaning and Joining\n",
    "Vanilla Steel Junior Data Scientist Assessment\n",
    "\n",
    "This script cleans and merges two supplier datasets into a unified inventory dataset.\n",
    "\"\"\""
   ]
  },
  {
   "cell_type": "code",
   "execution_count": 1,
   "id": "6278b5ea",
   "metadata": {},
   "outputs": [],
   "source": [
    "import pandas as pd\n",
    "import numpy as np\n",
    "import re\n",
    "from pathlib import Path"
   ]
  },
  {
   "cell_type": "code",
   "execution_count": 2,
   "id": "1e162ab1",
   "metadata": {},
   "outputs": [],
   "source": [
    "def load_data():\n",
    "    \"\"\"Load both supplier datasets from Excel files.\"\"\"\n",
    "    # Define paths\n",
    "    resources_dir = Path(\"resources/task_1\")\n",
    "    \n",
    "    # Load data\n",
    "    supplier1_df = pd.read_excel(resources_dir / \"supplier_data1.xlsx\")\n",
    "    supplier2_df = pd.read_excel(resources_dir / \"supplier_data2.xlsx\")\n",
    "    \n",
    "    return supplier1_df, supplier2_df"
   ]
  },
  {
   "cell_type": "code",
   "execution_count": null,
   "id": "9cd80960",
   "metadata": {},
   "outputs": [],
   "source": []
  },
  {
   "cell_type": "code",
   "execution_count": null,
   "id": "aabe078b",
   "metadata": {},
   "outputs": [],
   "source": []
  }
 ],
 "metadata": {
  "kernelspec": {
   "display_name": "venv",
   "language": "python",
   "name": "python3"
  },
  "language_info": {
   "codemirror_mode": {
    "name": "ipython",
    "version": 3
   },
   "file_extension": ".py",
   "mimetype": "text/x-python",
   "name": "python",
   "nbconvert_exporter": "python",
   "pygments_lexer": "ipython3",
   "version": "3.12.3"
  }
 },
 "nbformat": 4,
 "nbformat_minor": 5
}
